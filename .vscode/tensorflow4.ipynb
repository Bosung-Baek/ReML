{
 "cells": [
  {
   "cell_type": "code",
   "execution_count": 71,
   "metadata": {},
   "outputs": [],
   "source": [
    "import tensorflow as tf\n",
    "import numpy as np\n",
    "import matplotlib.pyplot as plt"
   ]
  },
  {
   "cell_type": "code",
   "execution_count": 72,
   "metadata": {},
   "outputs": [],
   "source": [
    "mnist = tf.keras.datasets.mnist\n",
    "(x_train, y_train), (x_test, y_test) = mnist.load_data()\n",
    "x_train, x_test = x_train / 255.0, x_test / 255.0"
   ]
  },
  {
   "cell_type": "code",
   "execution_count": 73,
   "metadata": {},
   "outputs": [],
   "source": [
    "model = tf.keras.models.Sequential([\n",
    "    tf.keras.layers.Conv2D(10, (10, 10), activation='relu', input_shape=(28, 28, 1)),\n",
    "    tf.keras.layers.MaxPooling2D(2, 2),\n",
    "    tf.keras.layers.Flatten(),\n",
    "    tf.keras.layers.Dense(128, activation='relu'),\n",
    "    tf.keras.layers.Dropout(0.2),\n",
    "    tf.keras.layers.Dense(10, activation='softmax')\n",
    "])\n",
    "model.compile(optimizer='adam',\n",
    "              loss='sparse_categorical_crossentropy',\n",
    "              metrics=['accuracy'])"
   ]
  },
  {
   "cell_type": "code",
   "execution_count": 75,
   "metadata": {},
   "outputs": [
    {
     "name": "stdout",
     "output_type": "stream",
     "text": [
      "1875/1875 [==============================] - 12s 7ms/step - loss: 0.0549 - accuracy: 0.9830\n",
      "1875/1875 [==============================] - 11s 6ms/step - loss: 0.0427 - accuracy: 0.9861\n",
      "1875/1875 [==============================] - 11s 6ms/step - loss: 0.0348 - accuracy: 0.9890\n",
      "1875/1875 [==============================] - 11s 6ms/step - loss: 0.0299 - accuracy: 0.9898\n",
      "1875/1875 [==============================] - 11s 6ms/step - loss: 0.0247 - accuracy: 0.9920\n",
      "313/313 - 1s - loss: 0.0337 - accuracy: 0.9900 - 955ms/epoch - 3ms/step\n"
     ]
    },
    {
     "data": {
      "text/plain": [
       "[0.033708833158016205, 0.9900000095367432]"
      ]
     },
     "execution_count": 75,
     "metadata": {},
     "output_type": "execute_result"
    },
    {
     "data": {
      "image/png": "[encoded data removed]",
      "text/plain": [
       "<Figure size 432x288 with 10 Axes>"
      ]
     },
     "metadata": {
      "needs_background": "light"
     },
     "output_type": "display_data"
    }
   ],
   "source": [
    "for epoch in range(5):\n",
    "    model.fit(x_train, y_train, epochs=1)\n",
    "    #show conv2d filter\n",
    "    for i in range(10):\n",
    "        plt.subplot(2, 5, i+1)\n",
    "        plt.imshow(model.layers[0].get_weights()[0][:,:,0,i], cmap=plt.cm.binary)\n",
    "        plt.title(i)\n",
    "        plt.axis('off')\n",
    "model.evaluate(x_test, y_test, verbose = 2)\n"
   ]
  },
  {
   "cell_type": "code",
   "execution_count": null,
   "metadata": {},
   "outputs": [
    {
     "name": "stdout",
     "output_type": "stream",
     "text": [
      "313/313 [==============================] - 1s 4ms/step\n",
      "0\n",
      "predicted :  7\n",
      "answer :  7\n",
      "1\n",
      "predicted :  2\n",
      "answer :  2\n",
      "2\n",
      "predicted :  1\n",
      "answer :  1\n",
      "3\n",
      "predicted :  0\n",
      "answer :  0\n",
      "4\n",
      "predicted :  4\n",
      "answer :  4\n",
      "5\n",
      "predicted :  1\n",
      "answer :  1\n",
      "6\n",
      "predicted :  4\n",
      "answer :  4\n",
      "7\n",
      "predicted :  9\n",
      "answer :  9\n",
      "8\n",
      "predicted :  5\n",
      "answer :  5\n",
      "9\n",
      "predicted :  9\n",
      "answer :  9\n",
      "10\n",
      "predicted :  0\n",
      "answer :  0\n",
      "11\n",
      "predicted :  6\n",
      "answer :  6\n",
      "12\n",
      "predicted :  9\n",
      "answer :  9\n",
      "13\n",
      "predicted :  0\n",
      "answer :  0\n",
      "14\n",
      "predicted :  1\n",
      "answer :  1\n",
      "15\n",
      "predicted :  5\n",
      "answer :  5\n",
      "16\n",
      "predicted :  9\n",
      "answer :  9\n",
      "17\n",
      "predicted :  7\n",
      "answer :  7\n",
      "18\n",
      "predicted :  3\n",
      "answer :  3\n",
      "19\n",
      "predicted :  4\n",
      "answer :  4\n",
      "20\n",
      "predicted :  9\n",
      "answer :  9\n",
      "21\n",
      "predicted :  6\n",
      "answer :  6\n",
      "22\n",
      "predicted :  6\n",
      "answer :  6\n",
      "23\n",
      "predicted :  5\n",
      "answer :  5\n",
      "24\n",
      "predicted :  4\n",
      "answer :  4\n",
      "25\n",
      "predicted :  0\n",
      "answer :  0\n",
      "26\n",
      "predicted :  7\n",
      "answer :  7\n",
      "27\n",
      "predicted :  4\n",
      "answer :  4\n",
      "28\n",
      "predicted :  0\n",
      "answer :  0\n",
      "29\n",
      "predicted :  1\n",
      "answer :  1\n",
      "30\n",
      "predicted :  3\n",
      "answer :  3\n",
      "31\n",
      "predicted :  1\n",
      "answer :  1\n",
      "32\n",
      "predicted :  3\n",
      "answer :  3\n",
      "33\n",
      "predicted :  4\n",
      "answer :  4\n",
      "34\n",
      "predicted :  7\n",
      "answer :  7\n",
      "35\n",
      "predicted :  2\n",
      "answer :  2\n",
      "36\n",
      "predicted :  7\n",
      "answer :  7\n",
      "37\n",
      "predicted :  1\n",
      "answer :  1\n",
      "38\n",
      "predicted :  2\n",
      "answer :  2\n",
      "39\n",
      "predicted :  1\n",
      "answer :  1\n",
      "40\n",
      "predicted :  1\n",
      "answer :  1\n",
      "41\n",
      "predicted :  7\n",
      "answer :  7\n",
      "42\n",
      "predicted :  4\n",
      "answer :  4\n",
      "43\n",
      "predicted :  2\n",
      "answer :  2\n",
      "44\n",
      "predicted :  3\n",
      "answer :  3\n",
      "45\n",
      "predicted :  5\n",
      "answer :  5\n",
      "46\n",
      "predicted :  1\n",
      "answer :  1\n",
      "47\n",
      "predicted :  2\n",
      "answer :  2\n",
      "48\n",
      "predicted :  4\n",
      "answer :  4\n",
      "49\n",
      "predicted :  4\n",
      "answer :  4\n",
      "50\n",
      "predicted :  6\n",
      "answer :  6\n",
      "51\n",
      "predicted :  3\n",
      "answer :  3\n",
      "52\n",
      "predicted :  5\n",
      "answer :  5\n",
      "53\n",
      "predicted :  5\n",
      "answer :  5\n",
      "54\n",
      "predicted :  6\n",
      "answer :  6\n",
      "55\n",
      "predicted :  0\n",
      "answer :  0\n",
      "56\n",
      "predicted :  4\n",
      "answer :  4\n",
      "57\n",
      "predicted :  1\n",
      "answer :  1\n",
      "58\n",
      "predicted :  9\n",
      "answer :  9\n",
      "59\n",
      "predicted :  5\n",
      "answer :  5\n",
      "60\n",
      "predicted :  7\n",
      "answer :  7\n",
      "61\n",
      "predicted :  8\n",
      "answer :  8\n",
      "62\n",
      "predicted :  9\n",
      "answer :  9\n",
      "63\n",
      "predicted :  3\n",
      "answer :  3\n",
      "64\n",
      "predicted :  7\n",
      "answer :  7\n",
      "65\n",
      "predicted :  4\n",
      "answer :  4\n",
      "66\n",
      "predicted :  6\n",
      "answer :  6\n",
      "67\n",
      "predicted :  4\n",
      "answer :  4\n",
      "68\n",
      "predicted :  3\n",
      "answer :  3\n",
      "69\n",
      "predicted :  0\n",
      "answer :  0\n",
      "70\n",
      "predicted :  7\n",
      "answer :  7\n",
      "71\n",
      "predicted :  0\n",
      "answer :  0\n",
      "72\n",
      "predicted :  2\n",
      "answer :  2\n",
      "73\n",
      "predicted :  9\n",
      "answer :  9\n",
      "74\n",
      "predicted :  1\n",
      "answer :  1\n",
      "75\n",
      "predicted :  7\n",
      "answer :  7\n",
      "76\n",
      "predicted :  3\n",
      "answer :  3\n",
      "77\n",
      "predicted :  2\n",
      "answer :  2\n",
      "78\n",
      "predicted :  9\n",
      "answer :  9\n",
      "79\n",
      "predicted :  7\n",
      "answer :  7\n",
      "80\n",
      "predicted :  7\n",
      "answer :  7\n",
      "81\n",
      "predicted :  6\n",
      "answer :  6\n",
      "82\n",
      "predicted :  2\n",
      "answer :  2\n",
      "83\n",
      "predicted :  7\n",
      "answer :  7\n",
      "84\n",
      "predicted :  8\n",
      "answer :  8\n",
      "85\n",
      "predicted :  4\n",
      "answer :  4\n",
      "86\n",
      "predicted :  7\n",
      "answer :  7\n",
      "87\n",
      "predicted :  3\n",
      "answer :  3\n",
      "88\n",
      "predicted :  6\n",
      "answer :  6\n",
      "89\n",
      "predicted :  1\n",
      "answer :  1\n",
      "90\n",
      "predicted :  3\n",
      "answer :  3\n",
      "91\n",
      "predicted :  6\n",
      "answer :  6\n",
      "92\n",
      "predicted :  9\n",
      "answer :  9\n",
      "93\n",
      "predicted :  3\n",
      "answer :  3\n",
      "94\n",
      "predicted :  1\n",
      "answer :  1\n",
      "95\n",
      "predicted :  4\n",
      "answer :  4\n",
      "96\n",
      "predicted :  1\n",
      "answer :  1\n",
      "97\n",
      "predicted :  7\n",
      "answer :  7\n",
      "98\n",
      "predicted :  6\n",
      "answer :  6\n",
      "99\n",
      "predicted :  9\n",
      "answer :  9\n"
     ]
    },
    {
     "data": {
      "text/plain": [
       "<matplotlib.image.AxesImage at 0x294399f49a0>"
      ]
     },
     "execution_count": 70,
     "metadata": {},
     "output_type": "execute_result"
    },
    {
     "data": {
      "image/png": "[encoded data removed]",
      "text/plain": [
       "<Figure size 432x288 with 1 Axes>"
      ]
     },
     "metadata": {
      "needs_background": "light"
     },
     "output_type": "display_data"
    }
   ],
   "source": [
    "# get wrong x_test predictions\n",
    "predictions = model.predict(x_test)\n",
    "for i in range(100):\n",
    "    print(i)\n",
    "    print('predicted : ',np.argmax(predictions[i]))\n",
    "    print('answer : ' ,y_test[i])\n",
    "plt.imshow(x_test[0], cmap=plt.cm.binary)"
   ]
  },
  {
   "cell_type": "code",
   "execution_count": null,
   "metadata": {},
   "outputs": [
    {
     "data": {
      "image/png": "[encoded data removed]",
      "text/plain": [
       "<Figure size 432x288 with 1 Axes>"
      ]
     },
     "metadata": {
      "needs_background": "light"
     },
     "output_type": "display_data"
    },
    {
     "name": "stdout",
     "output_type": "stream",
     "text": [
      "predicted :  9\n",
      "weight :  [0. 0. 0. 0. 0. 0. 0. 0. 0. 1.]\n",
      "answer :  4\n"
     ]
    }
   ],
   "source": [
    "new_predictions = predictions.argmax(axis = 1)\n",
    "answer_sheet = new_predictions == y_test\n",
    "for i in range(len(answer_sheet)):\n",
    "    if answer_sheet[i] == False:\n",
    "        plt.imshow(x_test[i], cmap=plt.cm.binary)\n",
    "        plt.show()\n",
    "        print('predicted : ',np.argmax(predictions[i]))\n",
    "        print('weight : ', np.round(predictions[i],2))\n",
    "        print('answer : ' ,y_test[i])\n",
    "        break"
   ]
  },
  {
   "cell_type": "code",
   "execution_count": null,
   "metadata": {},
   "outputs": [],
   "source": [
    "model2 = tf.keras.models.Sequential([\n",
    "    tf.keras.layers.Conv2D(10, (10, 10), activation='relu', input_shape=(28, 28, 1))\n",
    "\n",
    "])\n",
    "model2.set_weights(model.layers[0].get_weights())"
   ]
  },
  {
   "cell_type": "code",
   "execution_count": null,
   "metadata": {},
   "outputs": [
    {
     "name": "stdout",
     "output_type": "stream",
     "text": [
      "313/313 [==============================] - 1s 3ms/step\n"
     ]
    },
    {
     "data": {
      "image/png": "[encoded data removed]",
      "text/plain": [
       "<Figure size 432x288 with 10 Axes>"
      ]
     },
     "metadata": {
      "needs_background": "light"
     },
     "output_type": "display_data"
    }
   ],
   "source": [
    "output = model2.predict(x_test)\n",
    "output[0].shape\n",
    "for j in range(100):\n",
    "    for i in range(10):\n",
    "        plt.subplot(2, 5, i+1)\n",
    "        plt.imshow(output[j][:,:,i], cmap='gray')\n",
    "        plt.title(i)\n",
    "        plt.axis('off')"
   ]
  }
 ],
 "metadata": {
  "kernelspec": {
   "display_name": "Python 3.9.12 ('ReML2')",
   "language": "python",
   "name": "python3"
  },
  "language_info": {
   "codemirror_mode": {
    "name": "ipython",
    "version": 3
   },
   "file_extension": ".py",
   "mimetype": "text/x-python",
   "name": "python",
   "nbconvert_exporter": "python",
   "pygments_lexer": "ipython3",
   "version": "3.9.12"
  },
  "orig_nbformat": 4,
  "vscode": {
   "interpreter": {
    "hash": "9aa31a42acf71efa0c2de65841f265442b713f433f263b4b0a4780f7c9ec78d8"
   }
  }
 },
 "nbformat": 4,
 "nbformat_minor": 2
}
