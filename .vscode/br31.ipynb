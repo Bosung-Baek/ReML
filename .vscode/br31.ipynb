{
 "cells": [
  {
   "cell_type": "code",
   "execution_count": 1,
   "metadata": {},
   "outputs": [],
   "source": [
    "import numpy as np\n",
    "import matplotlib.pyplot as plt\n",
    "import time\n",
    "import random"
   ]
  },
  {
   "cell_type": "code",
   "execution_count": 2,
   "metadata": {},
   "outputs": [],
   "source": [
    "class Agent:\n",
    "    action = np.array([1, 2, 3])\n",
    "    select_action_pr = np.array([0.33, 0.33, 0.33])\n",
    "    pos = 0\n",
    "\n",
    "    def set_pos(self, position):\n",
    "        self.pos = position\n",
    "        return self.pos\n",
    "    \n",
    "    def get_pos(self):\n",
    "        return self.pos\n"
   ]
  },
  {
   "cell_type": "code",
   "execution_count": 3,
   "metadata": {},
   "outputs": [
    {
     "data": {
      "text/plain": [
       "2"
      ]
     },
     "execution_count": 3,
     "metadata": {},
     "output_type": "execute_result"
    }
   ],
   "source": [
    "random.randint(1, 3)"
   ]
  },
  {
   "cell_type": "code",
   "execution_count": 4,
   "metadata": {},
   "outputs": [],
   "source": [
    "class Environment:\n",
    "    num = 1\n",
    "    goal = -3\n",
    "    outrange = -5\n",
    "\n",
    "    goal_position = [31]\n",
    "\n",
    "    reward_list = [1 for i in range(30)]\n",
    "    reward_list.append(goal)\n",
    "\n",
    "    reward_list1 = [\"num\" for i in range(30)]\n",
    "    reward_list1.append(\"goal\")\n",
    "\n",
    "    def __init__(self):\n",
    "        self.reward = np.asarray(self.reward_list)\n",
    "\n",
    "    def move(self, agent:Agent, action):\n",
    "        done = False\n",
    "        new_pos = agent.pos + random.randint(1, 3) + agent.action[action]\n",
    "        ''' 상대 움직임 + 본인 움직임'''\n",
    "        if self.reward_list1[agent.pos] == \"goal\":\n",
    "            reward = self.goal\n",
    "            observation = agent.set_pos(agent.pos)\n",
    "            done = True\n",
    "        elif not(new_pos in range(0, 31)):\n",
    "            reward = self.outrange\n",
    "            observation = agent.set_pos(agent.pos)\n",
    "            done = True\n",
    "        else:\n",
    "            observation = agent.set_pos(new_pos)\n",
    "            reward = self.reward[observation]\n",
    "        \n",
    "        return observation, reward, done\n",
    "    "
   ]
  },
  {
   "cell_type": "code",
   "execution_count": 5,
   "metadata": {},
   "outputs": [],
   "source": [
    "def state_value_function(env:Environment, agent:Agent, G, max_step, now_step):\n",
    "    gamma = 0.9\n",
    "    if env.reward_list1[agent.pos] == \"goal\":\n",
    "        return env.goal\n",
    "    if max_step == now_step:\n",
    "        pos1 = agent.get_pos()\n",
    "        for i in range(len(agent.action)):\n",
    "            agent.set_pos(pos1)\n",
    "            observation, reward, done = env.move(agent, i)\n",
    "            G+= agent.select_action_pr[i]*reward\n",
    "        return G\n",
    "    else:\n",
    "        pos1 = agent.get_pos()\n",
    "        for i in range(len(agent.action)):\n",
    "            observation, reward, done = env.move(agent, i)\n",
    "            G+= agent.select_action_pr[i]*reward\n",
    "\n",
    "            if done == True:\n",
    "                if not(observation in range(0, 31)):\n",
    "                    agent.set_pos(pos1)\n",
    "            next_v = state_value_function(env, agent, 0, max_step, now_step+1)\n",
    "            G+=agent.select_action_pr[i]*gamma*next_v\n",
    "            agent.set_pos(pos1)\n",
    "\n",
    "        return G"
   ]
  },
  {
   "cell_type": "code",
   "execution_count": 6,
   "metadata": {},
   "outputs": [
    {
     "ename": "NameError",
     "evalue": "name 'env' is not defined",
     "output_type": "error",
     "traceback": [
      "\u001b[1;31m---------------------------------------------------------------------------\u001b[0m",
      "\u001b[1;31mNameError\u001b[0m                                 Traceback (most recent call last)",
      "\u001b[1;32m~\\AppData\\Local\\Temp/ipykernel_20856/4287860266.py\u001b[0m in \u001b[0;36m<module>\u001b[1;34m\u001b[0m\n\u001b[1;32m----> 1\u001b[1;33m \u001b[0menv\u001b[0m\u001b[1;33m.\u001b[0m\u001b[0mreward\u001b[0m\u001b[1;33m.\u001b[0m\u001b[0mshape\u001b[0m\u001b[1;33m[\u001b[0m\u001b[1;36m0\u001b[0m\u001b[1;33m]\u001b[0m\u001b[1;33m\u001b[0m\u001b[1;33m\u001b[0m\u001b[0m\n\u001b[0m",
      "\u001b[1;31mNameError\u001b[0m: name 'env' is not defined"
     ]
    }
   ],
   "source": [
    "env.reward.shape[0]"
   ]
  },
  {
   "cell_type": "code",
   "execution_count": null,
   "metadata": {},
   "outputs": [
    {
     "name": "stdout",
     "output_type": "stream",
     "text": [
      "max_step_number = 0 total_time = 0.0(s)\n",
      "step 1\n",
      " pos 0 : 0.99 pos 1 : 0.99 pos 2 : 0.99 pos 3 : 0.99 pos 4 : 0.99 pos 5 : 0.99 pos 6 : 0.99 pos 7 : 0.99 pos 8 : 0.99 pos 9 : 0.99 pos 10 : 0.99 pos 11 : 0.99 pos 12 : 0.99 pos 13 : 0.99 pos 14 : 0.99 pos 15 : 0.99 pos 16 : 0.99 pos 17 : 0.99 pos 18 : 0.99 pos 19 : 0.99 pos 20 : 0.99 pos 21 : 0.99 pos 22 : 0.99 pos 23 : 0.99 pos 24 : 0.99 pos 25 : 0.99 pos 26 : -0.33 pos 27 : -2.31 pos 28 : -4.95 pos 29 : -4.95 pos 30 : -3.00 \n",
      "max_step_number = 1 total_time = 0.01(s)\n",
      "step 2\n",
      " pos 0 : 1.87 pos 1 : 1.87 pos 2 : 1.87 pos 3 : 1.87 pos 4 : 1.87 pos 5 : 1.87 pos 6 : 1.87 pos 7 : 1.87 pos 8 : 1.87 pos 9 : 1.87 pos 10 : 1.87 pos 11 : 1.87 pos 12 : 1.87 pos 13 : 1.87 pos 14 : 1.87 pos 15 : 1.87 pos 16 : 1.87 pos 17 : 1.87 pos 18 : 1.87 pos 19 : 1.28 pos 20 : 1.87 pos 21 : -0.28 pos 22 : 0.11 pos 23 : -2.83 pos 24 : -2.64 pos 25 : -4.16 pos 26 : -4.81 pos 27 : -8.97 pos 28 : -9.16 pos 29 : -9.36 pos 30 : -3.00 \n",
      "max_step_number = 2 total_time = 0.03(s)\n",
      "step 3\n",
      " pos 0 : 2.66 pos 1 : 2.66 pos 2 : 2.66 pos 3 : 2.66 pos 4 : 2.66 pos 5 : 2.66 pos 6 : 2.66 pos 7 : 2.66 pos 8 : 2.66 pos 9 : 2.66 pos 10 : 2.66 pos 11 : 2.66 pos 12 : 2.66 pos 13 : 2.66 pos 14 : 2.48 pos 15 : 1.96 pos 16 : 1.73 pos 17 : 0.04 pos 18 : 0.62 pos 19 : -0.37 pos 20 : -1.46 pos 21 : -3.42 pos 22 : -4.09 pos 23 : -6.40 pos 24 : -5.75 pos 25 : -5.30 pos 26 : -6.91 pos 27 : -10.45 pos 28 : -12.81 pos 29 : -13.29 pos 30 : -3.00 \n",
      "max_step_number = 3 total_time = 0.07(s)\n",
      "step 4\n",
      " pos 0 : 3.36 pos 1 : 3.36 pos 2 : 3.36 pos 3 : 3.36 pos 4 : 3.36 pos 5 : 3.36 pos 6 : 3.36 pos 7 : 3.36 pos 8 : 3.36 pos 9 : 3.19 pos 10 : 3.05 pos 11 : 2.36 pos 12 : 2.36 pos 13 : 2.42 pos 14 : 1.39 pos 15 : 0.28 pos 16 : -0.46 pos 17 : -1.08 pos 18 : -2.41 pos 19 : -3.55 pos 20 : -3.74 pos 21 : -4.20 pos 22 : -6.57 pos 23 : -7.94 pos 24 : -8.87 pos 25 : -8.97 pos 26 : -9.50 pos 27 : -11.55 pos 28 : -12.75 pos 29 : -16.79 pos 30 : -3.00 \n",
      "max_step_number = 4 total_time = 0.2(s)\n",
      "step 5\n",
      " pos 0 : 3.98 pos 1 : 3.98 pos 2 : 3.98 pos 3 : 3.97 pos 4 : 3.96 pos 5 : 3.84 pos 6 : 3.41 pos 7 : 3.28 pos 8 : 3.03 pos 9 : 2.23 pos 10 : 2.33 pos 11 : 1.02 pos 12 : 0.52 pos 13 : 0.29 pos 14 : -1.50 pos 15 : -1.14 pos 16 : -2.44 pos 17 : -4.00 pos 18 : -3.86 pos 19 : -4.96 pos 20 : -7.37 pos 21 : -7.45 pos 22 : -6.27 pos 23 : -9.78 pos 24 : -10.40 pos 25 : -13.29 pos 26 : -8.42 pos 27 : -12.59 pos 28 : -14.47 pos 29 : -19.91 pos 30 : -3.00 \n",
      "max_step_number = 5 total_time = 0.57(s)\n",
      "step 6\n",
      " pos 0 : 4.51 pos 1 : 4.39 pos 2 : 4.12 pos 3 : 4.13 pos 4 : 3.45 pos 5 : 2.83 pos 6 : 1.86 pos 7 : 2.20 pos 8 : 0.79 pos 9 : 1.37 pos 10 : -1.11 pos 11 : -0.33 pos 12 : -2.27 pos 13 : -2.00 pos 14 : -3.29 pos 15 : -4.33 pos 16 : -4.46 pos 17 : -5.39 pos 18 : -7.51 pos 19 : -8.15 pos 20 : -9.04 pos 21 : -5.85 pos 22 : -11.56 pos 23 : -10.43 pos 24 : -10.79 pos 25 : -11.31 pos 26 : -8.48 pos 27 : -15.60 pos 28 : -19.71 pos 29 : -22.69 pos 30 : -3.00 \n",
      "max_step_number = 6 total_time = 1.63(s)\n",
      "step 7\n",
      " pos 0 : 3.97 pos 1 : 3.95 pos 2 : 3.11 pos 3 : 2.84 pos 4 : 1.77 pos 5 : 1.58 pos 6 : 0.93 pos 7 : 0.19 pos 8 : -0.82 pos 9 : -1.32 pos 10 : -1.57 pos 11 : -2.83 pos 12 : -3.18 pos 13 : -4.21 pos 14 : -4.88 pos 15 : -5.92 pos 16 : -5.74 pos 17 : -7.48 pos 18 : -7.29 pos 19 : -9.34 pos 20 : -9.80 pos 21 : -10.69 pos 22 : -12.39 pos 23 : -9.74 pos 24 : -17.45 pos 25 : -19.23 pos 26 : -17.63 pos 27 : -14.82 pos 28 : -19.01 pos 29 : -25.17 pos 30 : -3.00 \n",
      "max_step_number = 7 total_time = 4.3(s)\n",
      "step 8\n",
      " pos 0 : 3.43 pos 1 : 2.25 pos 2 : 2.16 pos 3 : 1.38 pos 4 : 0.63 pos 5 : 0.23 pos 6 : 0.06 pos 7 : -1.56 pos 8 : -1.75 pos 9 : -2.53 pos 10 : -3.00 pos 11 : -4.10 pos 12 : -5.00 pos 13 : -4.82 pos 14 : -5.69 pos 15 : -6.86 pos 16 : -7.58 pos 17 : -10.08 pos 18 : -8.37 pos 19 : -8.50 pos 20 : -11.98 pos 21 : -9.57 pos 22 : -12.62 pos 23 : -11.49 pos 24 : -18.68 pos 25 : -10.91 pos 26 : -15.93 pos 27 : -15.16 pos 28 : -15.58 pos 29 : -27.37 pos 30 : -3.00 \n",
      "max_step_number = 8 total_time = 7.46(s)\n",
      "step 9\n",
      " pos 0 : 2.24 pos 1 : 1.15 pos 2 : -0.07 pos 3 : -0.22 pos 4 : -0.97 pos 5 : -1.07 pos 6 : -1.81 pos 7 : -2.54 pos 8 : -3.62 pos 9 : -3.83 pos 10 : -4.45 pos 11 : -4.90 pos 12 : -5.00 pos 13 : -6.27 pos 14 : -7.23 pos 15 : -6.87 pos 16 : -8.89 pos 17 : -9.72 pos 18 : -9.81 pos 19 : -10.37 pos 20 : -10.02 pos 21 : -12.43 pos 22 : -11.26 pos 23 : -13.97 pos 24 : -9.63 pos 25 : -16.75 pos 26 : -14.19 pos 27 : -20.98 pos 28 : -25.14 pos 29 : -29.34 pos 30 : -3.00 \n",
      "max_step_number = 9 total_time = 21.27(s)\n",
      "step 10\n",
      " pos 0 : 0.54 pos 1 : -0.05 pos 2 : -0.36 pos 3 : -1.26 pos 4 : -2.74 pos 5 : -2.69 pos 6 : -2.93 pos 7 : -3.34 pos 8 : -3.75 pos 9 : -4.61 pos 10 : -4.67 pos 11 : -5.38 pos 12 : -6.35 pos 13 : -6.71 pos 14 : -7.09 pos 15 : -9.40 pos 16 : -9.28 pos 17 : -10.14 pos 18 : -11.30 pos 19 : -11.89 pos 20 : -11.71 pos 21 : -13.89 pos 22 : -12.59 pos 23 : -17.87 pos 24 : -17.64 pos 25 : -16.45 pos 26 : -15.57 pos 27 : -15.22 pos 28 : -24.67 pos 29 : -31.09 pos 30 : -3.00 \n",
      "max_step_number = 10 total_time = 62.96(s)\n",
      "step 11\n",
      " pos 0 : 0.02 pos 1 : -1.07 pos 2 : -1.67 pos 3 : -2.25 pos 4 : -2.49 pos 5 : -3.69 pos 6 : -4.12 pos 7 : -4.21 pos 8 : -5.17 pos 9 : -5.59 pos 10 : -5.65 pos 11 : -6.88 pos 12 : -8.35 pos 13 : -8.10 pos 14 : -8.12 pos 15 : -8.79 pos 16 : -10.01 pos 17 : -14.17 pos 18 : -12.42 pos 19 : -11.46 pos 20 : -12.64 pos 21 : -19.41 pos 22 : -14.22 pos 23 : -17.02 pos 24 : -21.01 pos 25 : -22.29 pos 26 : -21.21 pos 27 : -19.72 pos 28 : -22.14 pos 29 : -32.65 pos 30 : -3.00 \n"
     ]
    },
    {
     "ename": "",
     "evalue": "",
     "output_type": "error",
     "traceback": [
      "\u001b[1;31mFailed to interrupt the Kernel. \n",
      "debug session not found. \n",
      "View Jupyter <a href='command:jupyter.viewOutput'>log</a> for further details."
     ]
    }
   ],
   "source": [
    "env = Environment()\n",
    "agent = Agent()\n",
    "max_step_number = 15\n",
    "time_len = []\n",
    "\n",
    "for max_step in range(max_step_number):\n",
    "    v_table = np.zeros(env.reward.shape[0])\n",
    "    start_time = time.time()\n",
    "    for i in range(env.reward.shape[0]):\n",
    "        agent.set_pos(i)\n",
    "        v_table[i] = state_value_function(env, agent, 0, max_step, 0)\n",
    "    time_len.append(time.time()-start_time)\n",
    "    print(\"max_step_number = {} total_time = {}(s)\".format(max_step, np.round(time.time()-start_time, 2)))\n",
    "    print(\"step {}\".format(max_step+1) )\n",
    "    for i in range(env.reward.shape[0]):\n",
    "        print(\" pos {0} : {1:.2f}\".format(i, v_table[i]), end=\"\")\n",
    "    print(\" \")\n"
   ]
  },
  {
   "cell_type": "code",
   "execution_count": null,
   "metadata": {},
   "outputs": [],
   "source": []
  }
 ],
 "metadata": {
  "interpreter": {
   "hash": "88279d2366fe020547cde40dd65aa0e3aa662a6ec1f3ca12d88834876c85e1a6"
  },
  "kernelspec": {
   "display_name": "Python 3.9.7 ('base')",
   "language": "python",
   "name": "python3"
  },
  "language_info": {
   "codemirror_mode": {
    "name": "ipython",
    "version": 3
   },
   "file_extension": ".py",
   "mimetype": "text/x-python",
   "name": "python",
   "nbconvert_exporter": "python",
   "pygments_lexer": "ipython3",
   "version": "3.9.7"
  },
  "orig_nbformat": 4
 },
 "nbformat": 4,
 "nbformat_minor": 2
}
