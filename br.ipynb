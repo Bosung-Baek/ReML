{
 "cells": [
  {
   "cell_type": "code",
   "execution_count": 97,
   "metadata": {},
   "outputs": [],
   "source": [
    "import random\n",
    "import numpy as np\n",
    "import matplotlib.pyplot as plt"
   ]
  },
  {
   "cell_type": "code",
   "execution_count": 2,
   "metadata": {},
   "outputs": [],
   "source": [
    "class BaskinRobins31:\n",
    "    def __init__(self, verbose=False):\n",
    "        self.number = 0\n",
    "        self.verbose = verbose\n",
    "        self.is_gameover = False\n",
    "\n",
    "    def move(self, action):\n",
    "        before_number = self.number\n",
    "        self.number = min(30, self.number+action)\n",
    "        if self.verbose: print(\"나: {}\".format([i for i in range(before_number+1, self.number+1)]))\n",
    "\n",
    "    def opponent_move(self, action):\n",
    "        if self.number == 30:\n",
    "            self.number = 31\n",
    "            if self.verbose: print(\"상대: [31] \\n당신이 이겼습니다!\")\n",
    "            self.is_gameover = True\n",
    "            return 10\n",
    "        else:\n",
    "            before_number = self.number\n",
    "            self.number = min(30, self.number+action)\n",
    "            if self.number == 30:\n",
    "                if self.verbose: print(\"상대: {} \\n당신이 졌습니다.\".format([i for i in range(before_number+1, self.number+1)]))\n",
    "                self.is_gameover = False\n",
    "                return -10\n",
    "            else:\n",
    "                if self.verbose: print(\"상대: {}\".format([i for i in range(before_number+1, self.number+1)]))\n",
    "                return 0\n",
    "\n",
    "    def select_opponent_move(self, action_type=\"best\"):\n",
    "        if action_type == \"best\":  # 최선의 수를 선택\n",
    "            if (self.number+2)%4 == 0:\n",
    "                return self.opponent_move(random.randint(1, 3))\n",
    "            else:\n",
    "                return self.opponent_move(4 - (self.number+2)%4)\n",
    "        elif action_type == \"random\":  # 동등한 확률로 랜덤하게 선택\n",
    "            return self.opponent_move(random.randint(1, 3))\n",
    "        else:\n",
    "            print(\"action_type은 'best'이거나 'random'이어야 합니다.\")\n",
    "\n",
    "    def reset(self):\n",
    "        self.number = 0\n",
    "        is_gameover = False"
   ]
  },
  {
   "cell_type": "code",
   "execution_count": 3,
   "metadata": {},
   "outputs": [
    {
     "name": "stdout",
     "output_type": "stream",
     "text": [
      "현재 진행 수: 0\n"
     ]
    }
   ],
   "source": [
    "game = BaskinRobins31(verbose=True)\n",
    "print(\"현재 진행 수:\", game.number) # 0 -> 출력\n",
    "# 현재 진행 수를 불러옵니다, 다음으로 말할 수는 1을 뜻합니다."
   ]
  },
  {
   "cell_type": "code",
   "execution_count": 4,
   "metadata": {},
   "outputs": [
    {
     "name": "stdout",
     "output_type": "stream",
     "text": [
      "나: [1, 2, 3]\n",
      "현재 진행 수: 3\n",
      "상대: [4]\n",
      "현재 진행 수: 4\n"
     ]
    }
   ],
   "source": [
    "game.move(3)\n",
    "print(\"현재 진행 수:\", game.number) # 3 -> 출력\n",
    "\n",
    "game.opponent_move(1)\n",
    "print(\"현재 진행 수:\", game.number) # 5-> 출력"
   ]
  },
  {
   "cell_type": "code",
   "execution_count": 5,
   "metadata": {},
   "outputs": [
    {
     "name": "stdout",
     "output_type": "stream",
     "text": [
      "나: [5]\n",
      "상대: [6]\n",
      "현재 진행 수: 6\n"
     ]
    }
   ],
   "source": [
    "# move메서드와 opponent_move메서드는 한 세트입니다. 나의 action이 이루어지고 나서,\n",
    "# 상대방의 action이 이루어지고 이 때 승패(reward)를 결정합니다.\n",
    "game.move(1)\n",
    "reward = game.select_opponent_move(\"best\")\n",
    "print(\"현재 진행 수:\", game.number) # 6 -> 출력"
   ]
  },
  {
   "cell_type": "code",
   "execution_count": 6,
   "metadata": {},
   "outputs": [
    {
     "name": "stdout",
     "output_type": "stream",
     "text": [
      "나: [29, 30]\n",
      "상대: [31] \n",
      "당신이 이겼습니다!\n",
      "해당 움직임의 보상: 10\n"
     ]
    }
   ],
   "source": [
    "game.number = 28 # 특정 state로 이동시킬 수 있습니다.\n",
    "game.move(2)\n",
    "reward = game.select_opponent_move(\"best\")\n",
    "print(\"해당 움직임의 보상:\", reward) # 10 -> 출력\n",
    "\n",
    "# 내가 30을 말하게 되면 이기게 되어있습니다."
   ]
  },
  {
   "cell_type": "code",
   "execution_count": 7,
   "metadata": {},
   "outputs": [
    {
     "name": "stdout",
     "output_type": "stream",
     "text": [
      "나: [27]\n",
      "상대: [28, 29, 30] \n",
      "당신이 졌습니다.\n",
      "해당 움직임의 보상: -10\n"
     ]
    }
   ],
   "source": [
    "# 질 때의 경우입니다. 상대가 30을 말하게 되면 패배합니다.\n",
    "game.number = 26\n",
    "game.move(1)\n",
    "reward = game.select_opponent_move(\"best\")\n",
    "print(\"해당 움직임의 보상:\", reward) # -10 -> 출력"
   ]
  },
  {
   "cell_type": "code",
   "execution_count": 112,
   "metadata": {},
   "outputs": [],
   "source": [
    "class player:\n",
    "    def __init__(self):\n",
    "        self.v_table = np.zeros(31)  # 0~30까지의 state를 가집니다.\n",
    "        self.p = 1/3\n",
    "        self.alpha = 0.1  # 학습률\n",
    "        self.gamma = 0.3  # 할인율\n",
    "    def policy_evaluation(self, game, policy, iter_num):\n",
    "        next_v_table = np.zeros(31)\n",
    "        for _ in range(iter_num):\n",
    "            next_v_table = np.zeros(31)\n",
    "            for state in range(31):\n",
    "                game.number = state\n",
    "                reward = game.select_opponent_move(\"best\")\n",
    "                value_t = 0\n",
    "                for act in range(1, 4):\n",
    "                    if state+act > 30:\n",
    "                        value = policy[state][act-1]*(reward+self.gamma*self.v_table[30])\n",
    "                        value_t += value\n",
    "                    else:\n",
    "                        value = policy[state][act-1]*(reward+self.gamma*self.v_table[state+act])\n",
    "                        value_t += value\n",
    "                next_v_table[state] = value_t\n",
    "            self.v_table = next_v_table\n",
    "        return next_v_table\n",
    "        \n",
    "    def policy_improvement(self, game, policy):\n",
    "        available_action = [1, 2, 3]\n",
    "        \n",
    "        #get q func\n",
    "        q_table = np.zeros([31, 3])\n",
    "        for state in range(31):\n",
    "            game.number = state\n",
    "            for act in available_action:\n",
    "                reward = game.opponent_move(act)\n",
    "                if state+act > 30:\n",
    "                    q_table[state, act-1] = self.p*(reward+self.gamma*self.v_table[30])\n",
    "                else:\n",
    "                    q_table[state, act-1] = self.p*(reward+self.gamma*self.v_table[state+act])\n",
    "        #get greedy policy\n",
    "        for state in range(31):\n",
    "            greedy_action = np.argmax(q_table[state])\n",
    "            policy[state] = greedy_action\n",
    "        return policy\n"
   ]
  },
  {
   "cell_type": "code",
   "execution_count": 113,
   "metadata": {},
   "outputs": [
    {
     "name": "stdout",
     "output_type": "stream",
     "text": [
      "[-4101.43252468 -6009.85343111 -3107.76346174 -4553.82485607\n",
      " -2354.83406737 -3450.5526157  -1784.32141038 -2614.57286514\n",
      " -1352.02675065 -1981.13841882 -1024.45627243 -1501.16114427\n",
      "  -776.279948   -1137.41314917  -588.24214327  -861.94453421\n",
      "  -445.50190448  -653.36070556  -337.71161364  -493.93402906\n",
      "  -257.28886656  -374.4824832   -191.452032    -291.69504\n",
      "  -140.9904      -205.488       -139.68        -124.8\n",
      "   -78.           -30.             0.        ]\n"
     ]
    },
    {
     "data": {
      "text/plain": [
       "<matplotlib.image.AxesImage at 0x12a568f7af0>"
      ]
     },
     "execution_count": 113,
     "metadata": {},
     "output_type": "execute_result"
    },
    {
     "data": {
      "image/png": "[encoded data removed]",
      "text/plain": [
       "<Figure size 432x288 with 1 Axes>"
      ]
     },
     "metadata": {
      "needs_background": "light"
     },
     "output_type": "display_data"
    }
   ],
   "source": [
    "game1 = BaskinRobins31()\n",
    "player1 = player()\n",
    "policy = np.ones([31,3])/3\n",
    "for i in range(100):\n",
    "    for act in range(1, 4):\n",
    "        player1.policy_evaluation(game1, policy, 100)\n",
    "    policy = player1.policy_improvement(game1, policy)\n",
    "print(player1.v_table)\n",
    "plt.imshow(np.reshape(player1.v_table, (1, 31)))\n",
    "\n",
    "\n",
    "\n",
    "\n",
    "\n"
   ]
  },
  {
   "cell_type": "code",
   "execution_count": null,
   "metadata": {},
   "outputs": [],
   "source": []
  }
 ],
 "metadata": {
  "kernelspec": {
   "display_name": "Python 3.9.12 ('ReML2')",
   "language": "python",
   "name": "python3"
  },
  "language_info": {
   "codemirror_mode": {
    "name": "ipython",
    "version": 3
   },
   "file_extension": ".py",
   "mimetype": "text/x-python",
   "name": "python",
   "nbconvert_exporter": "python",
   "pygments_lexer": "ipython3",
   "version": "3.9.12"
  },
  "orig_nbformat": 4,
  "vscode": {
   "interpreter": {
    "hash": "9aa31a42acf71efa0c2de65841f265442b713f433f263b4b0a4780f7c9ec78d8"
   }
  }
 },
 "nbformat": 4,
 "nbformat_minor": 2
}
